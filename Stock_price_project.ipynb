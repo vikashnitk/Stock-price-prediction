{
  "nbformat": 4,
  "nbformat_minor": 0,
  "metadata": {
    "colab": {
      "name": "stockPrice_project.ipynb",
      "provenance": [],
      "mount_file_id": "1bEL4TNn7wiZMvzK4drf40fBJc3mFlJdA",
      "authorship_tag": "ABX9TyPU57abJhrh1NwwUxz5RCat",
      "include_colab_link": true
    },
    "kernelspec": {
      "name": "python3",
      "display_name": "Python 3"
    },
    "accelerator": "GPU"
  },
  "cells": [
    {
      "cell_type": "markdown",
      "metadata": {
        "id": "view-in-github",
        "colab_type": "text"
      },
      "source": [
        "<a href=\"https://colab.research.google.com/github/vikashnitk/Stock-price-prediction/blob/master/Stock_price_project.ipynb\" target=\"_parent\"><img src=\"https://colab.research.google.com/assets/colab-badge.svg\" alt=\"Open In Colab\"/></a>"
      ]
    },
    {
      "cell_type": "code",
      "metadata": {
        "id": "Mt-vEYP6wicS",
        "colab_type": "code",
        "colab": {
          "base_uri": "https://localhost:8080/",
          "height": 357
        },
        "outputId": "12564a06-ebb1-4c89-c589-244015de8daf"
      },
      "source": [
        "pip install yfinance\n"
      ],
      "execution_count": 2,
      "outputs": [
        {
          "output_type": "stream",
          "text": [
            "Collecting yfinance\n",
            "  Downloading https://files.pythonhosted.org/packages/c2/31/8b374a12b90def92a4e27d0fc595fc43635f395984e36a075244d98bd265/yfinance-0.1.54.tar.gz\n",
            "Requirement already satisfied: pandas>=0.24 in /usr/local/lib/python3.6/dist-packages (from yfinance) (1.0.5)\n",
            "Requirement already satisfied: numpy>=1.15 in /usr/local/lib/python3.6/dist-packages (from yfinance) (1.18.5)\n",
            "Requirement already satisfied: requests>=2.20 in /usr/local/lib/python3.6/dist-packages (from yfinance) (2.23.0)\n",
            "Requirement already satisfied: multitasking>=0.0.7 in /usr/local/lib/python3.6/dist-packages (from yfinance) (0.0.9)\n",
            "Requirement already satisfied: pytz>=2017.2 in /usr/local/lib/python3.6/dist-packages (from pandas>=0.24->yfinance) (2018.9)\n",
            "Requirement already satisfied: python-dateutil>=2.6.1 in /usr/local/lib/python3.6/dist-packages (from pandas>=0.24->yfinance) (2.8.1)\n",
            "Requirement already satisfied: chardet<4,>=3.0.2 in /usr/local/lib/python3.6/dist-packages (from requests>=2.20->yfinance) (3.0.4)\n",
            "Requirement already satisfied: certifi>=2017.4.17 in /usr/local/lib/python3.6/dist-packages (from requests>=2.20->yfinance) (2020.6.20)\n",
            "Requirement already satisfied: urllib3!=1.25.0,!=1.25.1,<1.26,>=1.21.1 in /usr/local/lib/python3.6/dist-packages (from requests>=2.20->yfinance) (1.24.3)\n",
            "Requirement already satisfied: idna<3,>=2.5 in /usr/local/lib/python3.6/dist-packages (from requests>=2.20->yfinance) (2.10)\n",
            "Requirement already satisfied: six>=1.5 in /usr/local/lib/python3.6/dist-packages (from python-dateutil>=2.6.1->pandas>=0.24->yfinance) (1.15.0)\n",
            "Building wheels for collected packages: yfinance\n",
            "  Building wheel for yfinance (setup.py) ... \u001b[?25l\u001b[?25hdone\n",
            "  Created wheel for yfinance: filename=yfinance-0.1.54-py2.py3-none-any.whl size=22409 sha256=363524f8e7838e54167a8d414bf17bbef96967b090f0b00eb3e40d42cc51cda0\n",
            "  Stored in directory: /root/.cache/pip/wheels/f9/e3/5b/ec24dd2984b12d61e0abf26289746c2436a0e7844f26f2515c\n",
            "Successfully built yfinance\n",
            "Installing collected packages: yfinance\n",
            "Successfully installed yfinance-0.1.54\n"
          ],
          "name": "stdout"
        }
      ]
    },
    {
      "cell_type": "code",
      "metadata": {
        "id": "fVWAxbGewn8a",
        "colab_type": "code",
        "colab": {
          "base_uri": "https://localhost:8080/",
          "height": 467
        },
        "outputId": "3c180fb3-362e-4f6c-e9a1-25cd49a6baf4"
      },
      "source": [
        "# Import the plotting library \n",
        "import matplotlib.pyplot as plt \n",
        " \n",
        "# Import the yfinance. If you get module not found error the run !pip install yfiannce from your Jupyter notebook \n",
        "import yfinance as yf   \n",
        " \n",
        "# Get the data of the stock AAPL \n",
        "data = yf.download(tickers=\"INFY.NS\", \n",
        " start=\"1996-01-01\",  end=\"2018-12-31\") #year-mon-day\n",
        "data"
      ],
      "execution_count": 3,
      "outputs": [
        {
          "output_type": "stream",
          "text": [
            "\r[*********************100%***********************]  1 of 1 completed\n"
          ],
          "name": "stdout"
        },
        {
          "output_type": "execute_result",
          "data": {
            "text/html": [
              "<div>\n",
              "<style scoped>\n",
              "    .dataframe tbody tr th:only-of-type {\n",
              "        vertical-align: middle;\n",
              "    }\n",
              "\n",
              "    .dataframe tbody tr th {\n",
              "        vertical-align: top;\n",
              "    }\n",
              "\n",
              "    .dataframe thead th {\n",
              "        text-align: right;\n",
              "    }\n",
              "</style>\n",
              "<table border=\"1\" class=\"dataframe\">\n",
              "  <thead>\n",
              "    <tr style=\"text-align: right;\">\n",
              "      <th></th>\n",
              "      <th>Open</th>\n",
              "      <th>High</th>\n",
              "      <th>Low</th>\n",
              "      <th>Close</th>\n",
              "      <th>Adj Close</th>\n",
              "      <th>Volume</th>\n",
              "    </tr>\n",
              "    <tr>\n",
              "      <th>Date</th>\n",
              "      <th></th>\n",
              "      <th></th>\n",
              "      <th></th>\n",
              "      <th></th>\n",
              "      <th></th>\n",
              "      <th></th>\n",
              "    </tr>\n",
              "  </thead>\n",
              "  <tbody>\n",
              "    <tr>\n",
              "      <th>1996-01-01</th>\n",
              "      <td>0.794920</td>\n",
              "      <td>0.796680</td>\n",
              "      <td>0.791020</td>\n",
              "      <td>0.796680</td>\n",
              "      <td>-0.000441</td>\n",
              "      <td>204800</td>\n",
              "    </tr>\n",
              "    <tr>\n",
              "      <th>1996-01-02</th>\n",
              "      <td>0.794920</td>\n",
              "      <td>0.798830</td>\n",
              "      <td>0.793460</td>\n",
              "      <td>0.793460</td>\n",
              "      <td>-0.000439</td>\n",
              "      <td>204800</td>\n",
              "    </tr>\n",
              "    <tr>\n",
              "      <th>1996-01-03</th>\n",
              "      <td>0.798830</td>\n",
              "      <td>0.798830</td>\n",
              "      <td>0.798830</td>\n",
              "      <td>0.798830</td>\n",
              "      <td>-0.000442</td>\n",
              "      <td>102400</td>\n",
              "    </tr>\n",
              "    <tr>\n",
              "      <th>1996-01-04</th>\n",
              "      <td>0.791020</td>\n",
              "      <td>0.794920</td>\n",
              "      <td>0.791020</td>\n",
              "      <td>0.793550</td>\n",
              "      <td>-0.000439</td>\n",
              "      <td>307200</td>\n",
              "    </tr>\n",
              "    <tr>\n",
              "      <th>1996-01-05</th>\n",
              "      <td>0.784180</td>\n",
              "      <td>0.784180</td>\n",
              "      <td>0.784180</td>\n",
              "      <td>0.784180</td>\n",
              "      <td>-0.000434</td>\n",
              "      <td>51200</td>\n",
              "    </tr>\n",
              "    <tr>\n",
              "      <th>...</th>\n",
              "      <td>...</td>\n",
              "      <td>...</td>\n",
              "      <td>...</td>\n",
              "      <td>...</td>\n",
              "      <td>...</td>\n",
              "      <td>...</td>\n",
              "    </tr>\n",
              "    <tr>\n",
              "      <th>2018-12-21</th>\n",
              "      <td>659.500000</td>\n",
              "      <td>659.500000</td>\n",
              "      <td>643.450012</td>\n",
              "      <td>646.200012</td>\n",
              "      <td>611.000000</td>\n",
              "      <td>12802132</td>\n",
              "    </tr>\n",
              "    <tr>\n",
              "      <th>2018-12-24</th>\n",
              "      <td>657.000000</td>\n",
              "      <td>658.799988</td>\n",
              "      <td>647.599976</td>\n",
              "      <td>649.000000</td>\n",
              "      <td>613.647400</td>\n",
              "      <td>8379825</td>\n",
              "    </tr>\n",
              "    <tr>\n",
              "      <th>2018-12-26</th>\n",
              "      <td>647.000000</td>\n",
              "      <td>647.000000</td>\n",
              "      <td>637.349976</td>\n",
              "      <td>644.049988</td>\n",
              "      <td>608.967041</td>\n",
              "      <td>6178552</td>\n",
              "    </tr>\n",
              "    <tr>\n",
              "      <th>2018-12-27</th>\n",
              "      <td>652.750000</td>\n",
              "      <td>663.250000</td>\n",
              "      <td>649.000000</td>\n",
              "      <td>656.799988</td>\n",
              "      <td>621.022461</td>\n",
              "      <td>15333902</td>\n",
              "    </tr>\n",
              "    <tr>\n",
              "      <th>2018-12-28</th>\n",
              "      <td>663.349976</td>\n",
              "      <td>663.500000</td>\n",
              "      <td>653.299988</td>\n",
              "      <td>656.950012</td>\n",
              "      <td>621.164307</td>\n",
              "      <td>4736598</td>\n",
              "    </tr>\n",
              "  </tbody>\n",
              "</table>\n",
              "<p>5681 rows × 6 columns</p>\n",
              "</div>"
            ],
            "text/plain": [
              "                  Open        High  ...   Adj Close    Volume\n",
              "Date                                ...                      \n",
              "1996-01-01    0.794920    0.796680  ...   -0.000441    204800\n",
              "1996-01-02    0.794920    0.798830  ...   -0.000439    204800\n",
              "1996-01-03    0.798830    0.798830  ...   -0.000442    102400\n",
              "1996-01-04    0.791020    0.794920  ...   -0.000439    307200\n",
              "1996-01-05    0.784180    0.784180  ...   -0.000434     51200\n",
              "...                ...         ...  ...         ...       ...\n",
              "2018-12-21  659.500000  659.500000  ...  611.000000  12802132\n",
              "2018-12-24  657.000000  658.799988  ...  613.647400   8379825\n",
              "2018-12-26  647.000000  647.000000  ...  608.967041   6178552\n",
              "2018-12-27  652.750000  663.250000  ...  621.022461  15333902\n",
              "2018-12-28  663.349976  663.500000  ...  621.164307   4736598\n",
              "\n",
              "[5681 rows x 6 columns]"
            ]
          },
          "metadata": {
            "tags": []
          },
          "execution_count": 3
        }
      ]
    },
    {
      "cell_type": "code",
      "metadata": {
        "id": "7lnO1Jya4L9R",
        "colab_type": "code",
        "colab": {
          "base_uri": "https://localhost:8080/",
          "height": 465
        },
        "outputId": "8c185efa-ac6a-488b-ce14-e6dcc35c8ef8"
      },
      "source": [
        "# Plot the adjusted close price\n",
        "data['Close'].plot(figsize=(15, 8))\n",
        "# Show the plot\n",
        "plt.show()"
      ],
      "execution_count": 4,
      "outputs": [
        {
          "output_type": "display_data",
          "data": {
            "image/png": "[encoded data removed]",
            "text/plain": [
              "<Figure size 1080x576 with 1 Axes>"
            ]
          },
          "metadata": {
            "tags": [],
            "needs_background": "light"
          }
        }
      ]
    },
    {
      "cell_type": "code",
      "metadata": {
        "id": "gnkSlzpF_I-X",
        "colab_type": "code",
        "colab": {}
      },
      "source": [
        "data.to_csv('/content/drive/My Drive/AppliedAI/data.csv')"
      ],
      "execution_count": 5,
      "outputs": []
    },
    {
      "cell_type": "code",
      "metadata": {
        "id": "FBiCCSo68v5D",
        "colab_type": "code",
        "colab": {
          "base_uri": "https://localhost:8080/",
          "height": 136
        },
        "outputId": "e4f1a00c-fbfa-47b4-e168-f42387897b98"
      },
      "source": [
        "#check any null values present in data\n",
        "data.isna().any()"
      ],
      "execution_count": 6,
      "outputs": [
        {
          "output_type": "execute_result",
          "data": {
            "text/plain": [
              "Open         False\n",
              "High         False\n",
              "Low          False\n",
              "Close        False\n",
              "Adj Close    False\n",
              "Volume       False\n",
              "dtype: bool"
            ]
          },
          "metadata": {
            "tags": []
          },
          "execution_count": 6
        }
      ]
    },
    {
      "cell_type": "code",
      "metadata": {
        "id": "rU1CYwAq9Lqw",
        "colab_type": "code",
        "colab": {
          "base_uri": "https://localhost:8080/",
          "height": 238
        },
        "outputId": "4729fb21-ce72-4910-ed61-d5d27a7f9b43"
      },
      "source": [
        "data.info()"
      ],
      "execution_count": 7,
      "outputs": [
        {
          "output_type": "stream",
          "text": [
            "<class 'pandas.core.frame.DataFrame'>\n",
            "DatetimeIndex: 5681 entries, 1996-01-01 to 2018-12-28\n",
            "Data columns (total 6 columns):\n",
            " #   Column     Non-Null Count  Dtype  \n",
            "---  ------     --------------  -----  \n",
            " 0   Open       5681 non-null   float64\n",
            " 1   High       5681 non-null   float64\n",
            " 2   Low        5681 non-null   float64\n",
            " 3   Close      5681 non-null   float64\n",
            " 4   Adj Close  5681 non-null   float64\n",
            " 5   Volume     5681 non-null   int64  \n",
            "dtypes: float64(5), int64(1)\n",
            "memory usage: 310.7 KB\n"
          ],
          "name": "stdout"
        }
      ]
    },
    {
      "cell_type": "code",
      "metadata": {
        "id": "WZiVGBxw99mp",
        "colab_type": "code",
        "colab": {
          "base_uri": "https://localhost:8080/",
          "height": 390
        },
        "outputId": "31170a71-991a-4fef-815f-5e522c6688d0"
      },
      "source": [
        "data.rolling(window=7).mean().head(10)"
      ],
      "execution_count": 8,
      "outputs": [
        {
          "output_type": "execute_result",
          "data": {
            "text/html": [
              "<div>\n",
              "<style scoped>\n",
              "    .dataframe tbody tr th:only-of-type {\n",
              "        vertical-align: middle;\n",
              "    }\n",
              "\n",
              "    .dataframe tbody tr th {\n",
              "        vertical-align: top;\n",
              "    }\n",
              "\n",
              "    .dataframe thead th {\n",
              "        text-align: right;\n",
              "    }\n",
              "</style>\n",
              "<table border=\"1\" class=\"dataframe\">\n",
              "  <thead>\n",
              "    <tr style=\"text-align: right;\">\n",
              "      <th></th>\n",
              "      <th>Open</th>\n",
              "      <th>High</th>\n",
              "      <th>Low</th>\n",
              "      <th>Close</th>\n",
              "      <th>Adj Close</th>\n",
              "      <th>Volume</th>\n",
              "    </tr>\n",
              "    <tr>\n",
              "      <th>Date</th>\n",
              "      <th></th>\n",
              "      <th></th>\n",
              "      <th></th>\n",
              "      <th></th>\n",
              "      <th></th>\n",
              "      <th></th>\n",
              "    </tr>\n",
              "  </thead>\n",
              "  <tbody>\n",
              "    <tr>\n",
              "      <th>1996-01-01</th>\n",
              "      <td>NaN</td>\n",
              "      <td>NaN</td>\n",
              "      <td>NaN</td>\n",
              "      <td>NaN</td>\n",
              "      <td>NaN</td>\n",
              "      <td>NaN</td>\n",
              "    </tr>\n",
              "    <tr>\n",
              "      <th>1996-01-02</th>\n",
              "      <td>NaN</td>\n",
              "      <td>NaN</td>\n",
              "      <td>NaN</td>\n",
              "      <td>NaN</td>\n",
              "      <td>NaN</td>\n",
              "      <td>NaN</td>\n",
              "    </tr>\n",
              "    <tr>\n",
              "      <th>1996-01-03</th>\n",
              "      <td>NaN</td>\n",
              "      <td>NaN</td>\n",
              "      <td>NaN</td>\n",
              "      <td>NaN</td>\n",
              "      <td>NaN</td>\n",
              "      <td>NaN</td>\n",
              "    </tr>\n",
              "    <tr>\n",
              "      <th>1996-01-04</th>\n",
              "      <td>NaN</td>\n",
              "      <td>NaN</td>\n",
              "      <td>NaN</td>\n",
              "      <td>NaN</td>\n",
              "      <td>NaN</td>\n",
              "      <td>NaN</td>\n",
              "    </tr>\n",
              "    <tr>\n",
              "      <th>1996-01-05</th>\n",
              "      <td>NaN</td>\n",
              "      <td>NaN</td>\n",
              "      <td>NaN</td>\n",
              "      <td>NaN</td>\n",
              "      <td>NaN</td>\n",
              "      <td>NaN</td>\n",
              "    </tr>\n",
              "    <tr>\n",
              "      <th>1996-01-08</th>\n",
              "      <td>NaN</td>\n",
              "      <td>NaN</td>\n",
              "      <td>NaN</td>\n",
              "      <td>NaN</td>\n",
              "      <td>NaN</td>\n",
              "      <td>NaN</td>\n",
              "    </tr>\n",
              "    <tr>\n",
              "      <th>1996-01-09</th>\n",
              "      <td>0.791016</td>\n",
              "      <td>0.792244</td>\n",
              "      <td>0.787879</td>\n",
              "      <td>0.790861</td>\n",
              "      <td>-0.000438</td>\n",
              "      <td>299885.714286</td>\n",
              "    </tr>\n",
              "    <tr>\n",
              "      <th>1996-01-10</th>\n",
              "      <td>0.788923</td>\n",
              "      <td>0.789203</td>\n",
              "      <td>0.785087</td>\n",
              "      <td>0.787541</td>\n",
              "      <td>-0.000436</td>\n",
              "      <td>321828.571429</td>\n",
              "    </tr>\n",
              "    <tr>\n",
              "      <th>1996-01-11</th>\n",
              "      <td>0.786691</td>\n",
              "      <td>0.788087</td>\n",
              "      <td>0.782227</td>\n",
              "      <td>0.787193</td>\n",
              "      <td>-0.000436</td>\n",
              "      <td>409600.000000</td>\n",
              "    </tr>\n",
              "    <tr>\n",
              "      <th>1996-01-12</th>\n",
              "      <td>0.785017</td>\n",
              "      <td>0.786413</td>\n",
              "      <td>0.779716</td>\n",
              "      <td>0.785449</td>\n",
              "      <td>-0.000435</td>\n",
              "      <td>446171.428571</td>\n",
              "    </tr>\n",
              "  </tbody>\n",
              "</table>\n",
              "</div>"
            ],
            "text/plain": [
              "                Open      High       Low     Close  Adj Close         Volume\n",
              "Date                                                                        \n",
              "1996-01-01       NaN       NaN       NaN       NaN        NaN            NaN\n",
              "1996-01-02       NaN       NaN       NaN       NaN        NaN            NaN\n",
              "1996-01-03       NaN       NaN       NaN       NaN        NaN            NaN\n",
              "1996-01-04       NaN       NaN       NaN       NaN        NaN            NaN\n",
              "1996-01-05       NaN       NaN       NaN       NaN        NaN            NaN\n",
              "1996-01-08       NaN       NaN       NaN       NaN        NaN            NaN\n",
              "1996-01-09  0.791016  0.792244  0.787879  0.790861  -0.000438  299885.714286\n",
              "1996-01-10  0.788923  0.789203  0.785087  0.787541  -0.000436  321828.571429\n",
              "1996-01-11  0.786691  0.788087  0.782227  0.787193  -0.000436  409600.000000\n",
              "1996-01-12  0.785017  0.786413  0.779716  0.785449  -0.000435  446171.428571"
            ]
          },
          "metadata": {
            "tags": []
          },
          "execution_count": 8
        }
      ]
    },
    {
      "cell_type": "code",
      "metadata": {
        "id": "x6cGOsCi-oq3",
        "colab_type": "code",
        "colab": {
          "base_uri": "https://localhost:8080/",
          "height": 384
        },
        "outputId": "61108617-e593-4fdb-aa7b-bf55920ea9c6"
      },
      "source": [
        "data['Close'].plot(figsize=(16,6))\n",
        "data.rolling(window=30).mean()['Close'].plot()"
      ],
      "execution_count": 9,
      "outputs": [
        {
          "output_type": "execute_result",
          "data": {
            "text/plain": [
              "<matplotlib.axes._subplots.AxesSubplot at 0x7fdf19478c50>"
            ]
          },
          "metadata": {
            "tags": []
          },
          "execution_count": 9
        },
        {
          "output_type": "display_data",
          "data": {
            "image/png": "[encoded data removed]",
            "text/plain": [
              "<Figure size 1152x432 with 1 Axes>"
            ]
          },
          "metadata": {
            "tags": [],
            "needs_background": "light"
          }
        }
      ]
    },
    {
      "cell_type": "code",
      "metadata": {
        "id": "8J1HjRqC_dJw",
        "colab_type": "code",
        "colab": {
          "base_uri": "https://localhost:8080/",
          "height": 387
        },
        "outputId": "505ebea6-2c38-4fbf-beb6-fdba607cd776"
      },
      "source": [
        "# Optional specify a minimum number of periods\n",
        "data['Close'].expanding(min_periods=1).mean().plot(figsize=(16,6))"
      ],
      "execution_count": 10,
      "outputs": [
        {
          "output_type": "execute_result",
          "data": {
            "text/plain": [
              "<matplotlib.axes._subplots.AxesSubplot at 0x7fdf1936d898>"
            ]
          },
          "metadata": {
            "tags": []
          },
          "execution_count": 10
        },
        {
          "output_type": "display_data",
          "data": {
            "image/png": "[encoded data removed]",
            "text/plain": [
              "<Figure size 1152x432 with 1 Axes>"
            ]
          },
          "metadata": {
            "tags": [],
            "needs_background": "light"
          }
        }
      ]
    },
    {
      "cell_type": "code",
      "metadata": {
        "id": "2EzDWWfJBQoL",
        "colab_type": "code",
        "colab": {
          "base_uri": "https://localhost:8080/",
          "height": 450
        },
        "outputId": "8bc9963a-99d2-43c2-d127-d2d17101f8af"
      },
      "source": [
        "import pandas as pd\n",
        "import numpy as np\n",
        "training_set=data['Close']\n",
        "training_set=pd.DataFrame(training_set)\n",
        "training_set"
      ],
      "execution_count": 11,
      "outputs": [
        {
          "output_type": "execute_result",
          "data": {
            "text/html": [
              "<div>\n",
              "<style scoped>\n",
              "    .dataframe tbody tr th:only-of-type {\n",
              "        vertical-align: middle;\n",
              "    }\n",
              "\n",
              "    .dataframe tbody tr th {\n",
              "        vertical-align: top;\n",
              "    }\n",
              "\n",
              "    .dataframe thead th {\n",
              "        text-align: right;\n",
              "    }\n",
              "</style>\n",
              "<table border=\"1\" class=\"dataframe\">\n",
              "  <thead>\n",
              "    <tr style=\"text-align: right;\">\n",
              "      <th></th>\n",
              "      <th>Close</th>\n",
              "    </tr>\n",
              "    <tr>\n",
              "      <th>Date</th>\n",
              "      <th></th>\n",
              "    </tr>\n",
              "  </thead>\n",
              "  <tbody>\n",
              "    <tr>\n",
              "      <th>1996-01-01</th>\n",
              "      <td>0.796680</td>\n",
              "    </tr>\n",
              "    <tr>\n",
              "      <th>1996-01-02</th>\n",
              "      <td>0.793460</td>\n",
              "    </tr>\n",
              "    <tr>\n",
              "      <th>1996-01-03</th>\n",
              "      <td>0.798830</td>\n",
              "    </tr>\n",
              "    <tr>\n",
              "      <th>1996-01-04</th>\n",
              "      <td>0.793550</td>\n",
              "    </tr>\n",
              "    <tr>\n",
              "      <th>1996-01-05</th>\n",
              "      <td>0.784180</td>\n",
              "    </tr>\n",
              "    <tr>\n",
              "      <th>...</th>\n",
              "      <td>...</td>\n",
              "    </tr>\n",
              "    <tr>\n",
              "      <th>2018-12-21</th>\n",
              "      <td>646.200012</td>\n",
              "    </tr>\n",
              "    <tr>\n",
              "      <th>2018-12-24</th>\n",
              "      <td>649.000000</td>\n",
              "    </tr>\n",
              "    <tr>\n",
              "      <th>2018-12-26</th>\n",
              "      <td>644.049988</td>\n",
              "    </tr>\n",
              "    <tr>\n",
              "      <th>2018-12-27</th>\n",
              "      <td>656.799988</td>\n",
              "    </tr>\n",
              "    <tr>\n",
              "      <th>2018-12-28</th>\n",
              "      <td>656.950012</td>\n",
              "    </tr>\n",
              "  </tbody>\n",
              "</table>\n",
              "<p>5681 rows × 1 columns</p>\n",
              "</div>"
            ],
            "text/plain": [
              "                 Close\n",
              "Date                  \n",
              "1996-01-01    0.796680\n",
              "1996-01-02    0.793460\n",
              "1996-01-03    0.798830\n",
              "1996-01-04    0.793550\n",
              "1996-01-05    0.784180\n",
              "...                ...\n",
              "2018-12-21  646.200012\n",
              "2018-12-24  649.000000\n",
              "2018-12-26  644.049988\n",
              "2018-12-27  656.799988\n",
              "2018-12-28  656.950012\n",
              "\n",
              "[5681 rows x 1 columns]"
            ]
          },
          "metadata": {
            "tags": []
          },
          "execution_count": 11
        }
      ]
    },
    {
      "cell_type": "code",
      "metadata": {
        "id": "W6mXY4k9BrAP",
        "colab_type": "code",
        "colab": {
          "base_uri": "https://localhost:8080/",
          "height": 136
        },
        "outputId": "a42cc6e2-5c62-4a6b-b70b-96f4fdc55be2"
      },
      "source": [
        "# Feature Scaling\n",
        "from sklearn.preprocessing import MinMaxScaler\n",
        "sc = MinMaxScaler(feature_range = (0, 1))\n",
        "training_set_scaled = sc.fit_transform(training_set)\n",
        "training_set_scaled"
      ],
      "execution_count": 12,
      "outputs": [
        {
          "output_type": "execute_result",
          "data": {
            "text/plain": [
              "array([[4.49129199e-05],\n",
              "       [4.05959620e-05],\n",
              "       [4.77953936e-05],\n",
              "       ...,\n",
              "       [8.62445574e-01],\n",
              "       [8.79539320e-01],\n",
              "       [8.79740455e-01]])"
            ]
          },
          "metadata": {
            "tags": []
          },
          "execution_count": 12
        }
      ]
    },
    {
      "cell_type": "code",
      "metadata": {
        "id": "pKxi-TOpB3hg",
        "colab_type": "code",
        "colab": {
          "base_uri": "https://localhost:8080/",
          "height": 238
        },
        "outputId": "2d743b6b-0008-4bcb-f6d9-d4ab476d75ad"
      },
      "source": [
        "# Creating a data structure with 60 timesteps and 1 output\n",
        "X_train = []\n",
        "y_train = []\n",
        "for i in range(60, 5620):\n",
        "    X_train.append(training_set_scaled[i-60:i, 0])\n",
        "    y_train.append(training_set_scaled[i, 0])\n",
        "X_train, y_train = np.array(X_train), np.array(y_train)\n",
        "X_train"
      ],
      "execution_count": 13,
      "outputs": [
        {
          "output_type": "execute_result",
          "data": {
            "text/plain": [
              "array([[4.49129199e-05, 4.05959620e-05, 4.77953936e-05, ...,\n",
              "        2.14335418e-04, 2.23237596e-04, 2.49555281e-04],\n",
              "       [4.05959620e-05, 4.77953936e-05, 4.07166278e-05, ...,\n",
              "        2.23237596e-04, 2.49555281e-04, 2.93797906e-04],\n",
              "       [4.77953936e-05, 4.07166278e-05, 2.81543618e-05, ...,\n",
              "        2.49555281e-04, 2.93797906e-04, 2.99174006e-04],\n",
              "       ...,\n",
              "       [8.50312383e-01, 8.63451089e-01, 8.75249108e-01, ...,\n",
              "        9.63935516e-01, 9.44562588e-01, 9.61924487e-01],\n",
              "       [8.63451089e-01, 8.75249108e-01, 8.93683540e-01, ...,\n",
              "        9.44562588e-01, 9.61924487e-01, 9.72582956e-01],\n",
              "       [8.75249108e-01, 8.93683540e-01, 9.06453606e-01, ...,\n",
              "        9.61924487e-01, 9.72582956e-01, 9.61388180e-01]])"
            ]
          },
          "metadata": {
            "tags": []
          },
          "execution_count": 13
        }
      ]
    },
    {
      "cell_type": "code",
      "metadata": {
        "id": "mAZwUN8wDeo3",
        "colab_type": "code",
        "colab": {
          "base_uri": "https://localhost:8080/",
          "height": 51
        },
        "outputId": "16ea0a0d-70c8-4a80-d9cd-0766a47d843a"
      },
      "source": [
        "y_train"
      ],
      "execution_count": 14,
      "outputs": [
        {
          "output_type": "execute_result",
          "data": {
            "text/plain": [
              "array([2.93797906e-04, 2.99174006e-04, 2.88703253e-04, ...,\n",
              "       9.72582956e-01, 9.61388180e-01, 9.70705963e-01])"
            ]
          },
          "metadata": {
            "tags": []
          },
          "execution_count": 14
        }
      ]
    },
    {
      "cell_type": "code",
      "metadata": {
        "id": "f0D0nEsCDHi6",
        "colab_type": "code",
        "colab": {}
      },
      "source": [
        "# Reshaping\n",
        "X_train = np.reshape(X_train, (X_train.shape[0], X_train.shape[1], 1))\n",
        "#X_train"
      ],
      "execution_count": 15,
      "outputs": []
    },
    {
      "cell_type": "code",
      "metadata": {
        "id": "sgK8VJ0_Ethu",
        "colab_type": "code",
        "colab": {}
      },
      "source": [
        "# Part 2 - Building the RNN\n",
        "\n",
        "# Importing the Keras libraries and packages\n",
        "from keras.models import Sequential\n",
        "from keras.layers import Dense\n",
        "from keras.layers import LSTM\n",
        "from keras.layers import Dropout"
      ],
      "execution_count": 16,
      "outputs": []
    },
    {
      "cell_type": "code",
      "metadata": {
        "id": "nAuU80rrFg1N",
        "colab_type": "code",
        "colab": {}
      },
      "source": [
        "# Initialising the RNN\n",
        "regressor = Sequential()"
      ],
      "execution_count": 17,
      "outputs": []
    },
    {
      "cell_type": "code",
      "metadata": {
        "id": "nnPYgC-zFmaP",
        "colab_type": "code",
        "colab": {}
      },
      "source": [
        "# Adding the first LSTM layer and some Dropout regularisation\n",
        "regressor.add(LSTM(units = 50, return_sequences = True, input_shape = (X_train.shape[1], 1)))\n",
        "regressor.add(Dropout(0.2))\n",
        "\n",
        "# Adding a second LSTM layer and some Dropout regularisation\n",
        "regressor.add(LSTM(units = 50, return_sequences = True))\n",
        "regressor.add(Dropout(0.2))\n",
        "\n",
        "# Adding a third LSTM layer and some Dropout regularisation\n",
        "regressor.add(LSTM(units = 50, return_sequences = True))\n",
        "regressor.add(Dropout(0.2))\n",
        "\n",
        "# Adding a fourth LSTM layer and some Dropout regularisation\n",
        "regressor.add(LSTM(units = 50))\n",
        "regressor.add(Dropout(0.2))\n",
        "\n",
        "# Adding the output layer\n",
        "regressor.add(Dense(units = 1))"
      ],
      "execution_count": 18,
      "outputs": []
    },
    {
      "cell_type": "code",
      "metadata": {
        "id": "_0uZO2uhF25n",
        "colab_type": "code",
        "colab": {
          "base_uri": "https://localhost:8080/",
          "height": 1000
        },
        "outputId": "06bf4057-c220-41ae-fee2-962e929d78a5"
      },
      "source": [
        "# Compiling the RNN\n",
        "regressor.compile(optimizer = 'adam', loss = 'mean_squared_error')\n",
        "\n",
        "# Fitting the RNN to the Training set\n",
        "regressor.fit(X_train, y_train, epochs = 100, batch_size = 32)"
      ],
      "execution_count": 19,
      "outputs": [
        {
          "output_type": "stream",
          "text": [
            "Epoch 1/100\n",
            "174/174 [==============================] - 2s 14ms/step - loss: 0.0062\n",
            "Epoch 2/100\n",
            "174/174 [==============================] - 2s 13ms/step - loss: 0.0019\n",
            "Epoch 3/100\n",
            "174/174 [==============================] - 2s 13ms/step - loss: 0.0020\n",
            "Epoch 4/100\n",
            "174/174 [==============================] - 2s 13ms/step - loss: 0.0016\n",
            "Epoch 5/100\n",
            "174/174 [==============================] - 2s 13ms/step - loss: 0.0015\n",
            "Epoch 6/100\n",
            "174/174 [==============================] - 2s 13ms/step - loss: 0.0015\n",
            "Epoch 7/100\n",
            "174/174 [==============================] - 2s 13ms/step - loss: 0.0012\n",
            "Epoch 8/100\n",
            "174/174 [==============================] - 2s 13ms/step - loss: 0.0013\n",
            "Epoch 9/100\n",
            "174/174 [==============================] - 2s 13ms/step - loss: 0.0012\n",
            "Epoch 10/100\n",
            "174/174 [==============================] - 2s 13ms/step - loss: 0.0011\n",
            "Epoch 11/100\n",
            "174/174 [==============================] - 2s 13ms/step - loss: 0.0012\n",
            "Epoch 12/100\n",
            "174/174 [==============================] - 2s 14ms/step - loss: 0.0011\n",
            "Epoch 13/100\n",
            "174/174 [==============================] - 2s 13ms/step - loss: 9.3984e-04\n",
            "Epoch 14/100\n",
            "174/174 [==============================] - 2s 13ms/step - loss: 9.6647e-04\n",
            "Epoch 15/100\n",
            "174/174 [==============================] - 2s 13ms/step - loss: 9.2170e-04\n",
            "Epoch 16/100\n",
            "174/174 [==============================] - 2s 13ms/step - loss: 9.5946e-04\n",
            "Epoch 17/100\n",
            "174/174 [==============================] - 2s 13ms/step - loss: 0.0010\n",
            "Epoch 18/100\n",
            "174/174 [==============================] - 2s 14ms/step - loss: 8.8388e-04\n",
            "Epoch 19/100\n",
            "174/174 [==============================] - 2s 13ms/step - loss: 8.9338e-04\n",
            "Epoch 20/100\n",
            "174/174 [==============================] - 2s 13ms/step - loss: 8.3912e-04\n",
            "Epoch 21/100\n",
            "174/174 [==============================] - 2s 13ms/step - loss: 8.7932e-04\n",
            "Epoch 22/100\n",
            "174/174 [==============================] - 2s 13ms/step - loss: 8.9534e-04\n",
            "Epoch 23/100\n",
            "174/174 [==============================] - 2s 13ms/step - loss: 7.8865e-04\n",
            "Epoch 24/100\n",
            "174/174 [==============================] - 2s 13ms/step - loss: 8.3661e-04\n",
            "Epoch 25/100\n",
            "174/174 [==============================] - 2s 13ms/step - loss: 7.1495e-04\n",
            "Epoch 26/100\n",
            "174/174 [==============================] - 2s 13ms/step - loss: 8.1253e-04\n",
            "Epoch 27/100\n",
            "174/174 [==============================] - 2s 13ms/step - loss: 7.9091e-04\n",
            "Epoch 28/100\n",
            "174/174 [==============================] - 2s 13ms/step - loss: 7.9875e-04\n",
            "Epoch 29/100\n",
            "174/174 [==============================] - 2s 13ms/step - loss: 7.0257e-04\n",
            "Epoch 30/100\n",
            "174/174 [==============================] - 2s 13ms/step - loss: 7.5824e-04\n",
            "Epoch 31/100\n",
            "174/174 [==============================] - 2s 13ms/step - loss: 7.8126e-04\n",
            "Epoch 32/100\n",
            "174/174 [==============================] - 2s 13ms/step - loss: 7.4875e-04\n",
            "Epoch 33/100\n",
            "174/174 [==============================] - 2s 13ms/step - loss: 7.7354e-04\n",
            "Epoch 34/100\n",
            "174/174 [==============================] - 2s 13ms/step - loss: 7.3731e-04\n",
            "Epoch 35/100\n",
            "174/174 [==============================] - 2s 14ms/step - loss: 6.9585e-04\n",
            "Epoch 36/100\n",
            "174/174 [==============================] - 2s 13ms/step - loss: 7.4127e-04\n",
            "Epoch 37/100\n",
            "174/174 [==============================] - 2s 14ms/step - loss: 8.0053e-04\n",
            "Epoch 38/100\n",
            "174/174 [==============================] - 2s 13ms/step - loss: 7.2230e-04\n",
            "Epoch 39/100\n",
            "174/174 [==============================] - 2s 13ms/step - loss: 7.3840e-04\n",
            "Epoch 40/100\n",
            "174/174 [==============================] - 2s 13ms/step - loss: 6.8086e-04\n",
            "Epoch 41/100\n",
            "174/174 [==============================] - 2s 13ms/step - loss: 7.6933e-04\n",
            "Epoch 42/100\n",
            "174/174 [==============================] - 2s 14ms/step - loss: 7.0313e-04\n",
            "Epoch 43/100\n",
            "174/174 [==============================] - 2s 13ms/step - loss: 7.0035e-04\n",
            "Epoch 44/100\n",
            "174/174 [==============================] - 2s 13ms/step - loss: 6.6279e-04\n",
            "Epoch 45/100\n",
            "174/174 [==============================] - 2s 13ms/step - loss: 7.4739e-04\n",
            "Epoch 46/100\n",
            "174/174 [==============================] - 2s 13ms/step - loss: 7.0743e-04\n",
            "Epoch 47/100\n",
            "174/174 [==============================] - 2s 14ms/step - loss: 7.4199e-04\n",
            "Epoch 48/100\n",
            "174/174 [==============================] - 2s 13ms/step - loss: 6.9052e-04\n",
            "Epoch 49/100\n",
            "174/174 [==============================] - 2s 14ms/step - loss: 6.9146e-04\n",
            "Epoch 50/100\n",
            "174/174 [==============================] - 2s 13ms/step - loss: 7.1174e-04\n",
            "Epoch 51/100\n",
            "174/174 [==============================] - 2s 13ms/step - loss: 6.7570e-04\n",
            "Epoch 52/100\n",
            "174/174 [==============================] - 2s 14ms/step - loss: 6.9267e-04\n",
            "Epoch 53/100\n",
            "174/174 [==============================] - 2s 14ms/step - loss: 7.2437e-04\n",
            "Epoch 54/100\n",
            "174/174 [==============================] - 2s 13ms/step - loss: 6.9204e-04\n",
            "Epoch 55/100\n",
            "174/174 [==============================] - 2s 14ms/step - loss: 7.0158e-04\n",
            "Epoch 56/100\n",
            "174/174 [==============================] - 2s 13ms/step - loss: 6.8991e-04\n",
            "Epoch 57/100\n",
            "174/174 [==============================] - 2s 13ms/step - loss: 6.8282e-04\n",
            "Epoch 58/100\n",
            "174/174 [==============================] - 2s 13ms/step - loss: 6.6696e-04\n",
            "Epoch 59/100\n",
            "174/174 [==============================] - 2s 13ms/step - loss: 6.8839e-04\n",
            "Epoch 60/100\n",
            "174/174 [==============================] - 2s 13ms/step - loss: 6.7278e-04\n",
            "Epoch 61/100\n",
            "174/174 [==============================] - 2s 13ms/step - loss: 6.7794e-04\n",
            "Epoch 62/100\n",
            "174/174 [==============================] - 2s 13ms/step - loss: 7.1989e-04\n",
            "Epoch 63/100\n",
            "174/174 [==============================] - 2s 13ms/step - loss: 6.8485e-04\n",
            "Epoch 64/100\n",
            "174/174 [==============================] - 2s 13ms/step - loss: 6.7938e-04\n",
            "Epoch 65/100\n",
            "174/174 [==============================] - 2s 14ms/step - loss: 6.7733e-04\n",
            "Epoch 66/100\n",
            "174/174 [==============================] - 2s 14ms/step - loss: 6.7779e-04\n",
            "Epoch 67/100\n",
            "174/174 [==============================] - 2s 13ms/step - loss: 6.3475e-04\n",
            "Epoch 68/100\n",
            "174/174 [==============================] - 2s 14ms/step - loss: 6.5742e-04\n",
            "Epoch 69/100\n",
            "174/174 [==============================] - 2s 14ms/step - loss: 6.8073e-04\n",
            "Epoch 70/100\n",
            "174/174 [==============================] - 2s 14ms/step - loss: 6.7628e-04\n",
            "Epoch 71/100\n",
            "174/174 [==============================] - 2s 13ms/step - loss: 6.7942e-04\n",
            "Epoch 72/100\n",
            "174/174 [==============================] - 2s 13ms/step - loss: 6.3609e-04\n",
            "Epoch 73/100\n",
            "174/174 [==============================] - 2s 14ms/step - loss: 6.3847e-04\n",
            "Epoch 74/100\n",
            "174/174 [==============================] - 2s 13ms/step - loss: 6.4292e-04\n",
            "Epoch 75/100\n",
            "174/174 [==============================] - 2s 13ms/step - loss: 6.2220e-04\n",
            "Epoch 76/100\n",
            "174/174 [==============================] - 2s 13ms/step - loss: 6.4436e-04\n",
            "Epoch 77/100\n",
            "174/174 [==============================] - 2s 13ms/step - loss: 6.3254e-04\n",
            "Epoch 78/100\n",
            "174/174 [==============================] - 2s 13ms/step - loss: 6.3614e-04\n",
            "Epoch 79/100\n",
            "174/174 [==============================] - 2s 13ms/step - loss: 6.5280e-04\n",
            "Epoch 80/100\n",
            "174/174 [==============================] - 2s 13ms/step - loss: 6.6108e-04\n",
            "Epoch 81/100\n",
            "174/174 [==============================] - 2s 14ms/step - loss: 7.0228e-04\n",
            "Epoch 82/100\n",
            "174/174 [==============================] - 2s 14ms/step - loss: 6.1792e-04\n",
            "Epoch 83/100\n",
            "174/174 [==============================] - 2s 13ms/step - loss: 5.9614e-04\n",
            "Epoch 84/100\n",
            "174/174 [==============================] - 2s 13ms/step - loss: 6.2723e-04\n",
            "Epoch 85/100\n",
            "174/174 [==============================] - 2s 13ms/step - loss: 6.1270e-04\n",
            "Epoch 86/100\n",
            "174/174 [==============================] - 2s 14ms/step - loss: 6.2403e-04\n",
            "Epoch 87/100\n",
            "174/174 [==============================] - 2s 13ms/step - loss: 6.5293e-04\n",
            "Epoch 88/100\n",
            "174/174 [==============================] - 2s 13ms/step - loss: 6.3790e-04\n",
            "Epoch 89/100\n",
            "174/174 [==============================] - 2s 14ms/step - loss: 5.9357e-04\n",
            "Epoch 90/100\n",
            "174/174 [==============================] - 2s 13ms/step - loss: 5.7943e-04\n",
            "Epoch 91/100\n",
            "174/174 [==============================] - 2s 13ms/step - loss: 6.0967e-04\n",
            "Epoch 92/100\n",
            "174/174 [==============================] - 2s 14ms/step - loss: 5.7731e-04\n",
            "Epoch 93/100\n",
            "174/174 [==============================] - 2s 14ms/step - loss: 6.1778e-04\n",
            "Epoch 94/100\n",
            "174/174 [==============================] - 2s 13ms/step - loss: 5.9308e-04\n",
            "Epoch 95/100\n",
            "174/174 [==============================] - 2s 14ms/step - loss: 5.9682e-04\n",
            "Epoch 96/100\n",
            "174/174 [==============================] - 2s 13ms/step - loss: 6.1881e-04\n",
            "Epoch 97/100\n",
            "174/174 [==============================] - 2s 14ms/step - loss: 6.2309e-04\n",
            "Epoch 98/100\n",
            "174/174 [==============================] - 2s 14ms/step - loss: 6.0763e-04\n",
            "Epoch 99/100\n",
            "174/174 [==============================] - 2s 13ms/step - loss: 6.0153e-04\n",
            "Epoch 100/100\n",
            "174/174 [==============================] - 2s 13ms/step - loss: 5.7713e-04\n"
          ],
          "name": "stdout"
        },
        {
          "output_type": "execute_result",
          "data": {
            "text/plain": [
              "<tensorflow.python.keras.callbacks.History at 0x7fdede7c70f0>"
            ]
          },
          "metadata": {
            "tags": []
          },
          "execution_count": 19
        }
      ]
    },
    {
      "cell_type": "code",
      "metadata": {
        "id": "SiVE7BxNLcWF",
        "colab_type": "code",
        "colab": {
          "base_uri": "https://localhost:8080/",
          "height": 467
        },
        "outputId": "c2040ee8-9224-4457-af0e-ea984c53b4f4"
      },
      "source": [
        "data_test = yf.download(tickers=\"INFY.NS\", \n",
        " start=\"2019-01-01\",  end=\"2020-09-21\") #year-mon-day\n",
        "data_test"
      ],
      "execution_count": 37,
      "outputs": [
        {
          "output_type": "stream",
          "text": [
            "\r[*********************100%***********************]  1 of 1 completed\n"
          ],
          "name": "stdout"
        },
        {
          "output_type": "execute_result",
          "data": {
            "text/html": [
              "<div>\n",
              "<style scoped>\n",
              "    .dataframe tbody tr th:only-of-type {\n",
              "        vertical-align: middle;\n",
              "    }\n",
              "\n",
              "    .dataframe tbody tr th {\n",
              "        vertical-align: top;\n",
              "    }\n",
              "\n",
              "    .dataframe thead th {\n",
              "        text-align: right;\n",
              "    }\n",
              "</style>\n",
              "<table border=\"1\" class=\"dataframe\">\n",
              "  <thead>\n",
              "    <tr style=\"text-align: right;\">\n",
              "      <th></th>\n",
              "      <th>Open</th>\n",
              "      <th>High</th>\n",
              "      <th>Low</th>\n",
              "      <th>Close</th>\n",
              "      <th>Adj Close</th>\n",
              "      <th>Volume</th>\n",
              "    </tr>\n",
              "    <tr>\n",
              "      <th>Date</th>\n",
              "      <th></th>\n",
              "      <th></th>\n",
              "      <th></th>\n",
              "      <th></th>\n",
              "      <th></th>\n",
              "      <th></th>\n",
              "    </tr>\n",
              "  </thead>\n",
              "  <tbody>\n",
              "    <tr>\n",
              "      <th>2019-01-01</th>\n",
              "      <td>660.950012</td>\n",
              "      <td>666.299988</td>\n",
              "      <td>654.150024</td>\n",
              "      <td>665.049988</td>\n",
              "      <td>628.823120</td>\n",
              "      <td>2943390</td>\n",
              "    </tr>\n",
              "    <tr>\n",
              "      <th>2019-01-02</th>\n",
              "      <td>666.000000</td>\n",
              "      <td>674.000000</td>\n",
              "      <td>662.049988</td>\n",
              "      <td>669.049988</td>\n",
              "      <td>632.605225</td>\n",
              "      <td>7416655</td>\n",
              "    </tr>\n",
              "    <tr>\n",
              "      <th>2019-01-03</th>\n",
              "      <td>672.000000</td>\n",
              "      <td>677.000000</td>\n",
              "      <td>663.099976</td>\n",
              "      <td>669.150024</td>\n",
              "      <td>632.699768</td>\n",
              "      <td>6827249</td>\n",
              "    </tr>\n",
              "    <tr>\n",
              "      <th>2019-01-04</th>\n",
              "      <td>671.750000</td>\n",
              "      <td>673.900024</td>\n",
              "      <td>651.000000</td>\n",
              "      <td>661.049988</td>\n",
              "      <td>625.040955</td>\n",
              "      <td>7889310</td>\n",
              "    </tr>\n",
              "    <tr>\n",
              "      <th>2019-01-07</th>\n",
              "      <td>665.000000</td>\n",
              "      <td>673.599976</td>\n",
              "      <td>661.500000</td>\n",
              "      <td>671.700012</td>\n",
              "      <td>635.110840</td>\n",
              "      <td>8046340</td>\n",
              "    </tr>\n",
              "    <tr>\n",
              "      <th>...</th>\n",
              "      <td>...</td>\n",
              "      <td>...</td>\n",
              "      <td>...</td>\n",
              "      <td>...</td>\n",
              "      <td>...</td>\n",
              "      <td>...</td>\n",
              "    </tr>\n",
              "    <tr>\n",
              "      <th>2020-09-14</th>\n",
              "      <td>957.000000</td>\n",
              "      <td>991.049988</td>\n",
              "      <td>948.299988</td>\n",
              "      <td>978.400024</td>\n",
              "      <td>978.400024</td>\n",
              "      <td>21871587</td>\n",
              "    </tr>\n",
              "    <tr>\n",
              "      <th>2020-09-15</th>\n",
              "      <td>979.500000</td>\n",
              "      <td>994.000000</td>\n",
              "      <td>971.650024</td>\n",
              "      <td>982.450012</td>\n",
              "      <td>982.450012</td>\n",
              "      <td>11608203</td>\n",
              "    </tr>\n",
              "    <tr>\n",
              "      <th>2020-09-16</th>\n",
              "      <td>986.000000</td>\n",
              "      <td>1005.650024</td>\n",
              "      <td>982.000000</td>\n",
              "      <td>1001.750000</td>\n",
              "      <td>1001.750000</td>\n",
              "      <td>10059251</td>\n",
              "    </tr>\n",
              "    <tr>\n",
              "      <th>2020-09-17</th>\n",
              "      <td>995.000000</td>\n",
              "      <td>1021.000000</td>\n",
              "      <td>995.000000</td>\n",
              "      <td>1011.000000</td>\n",
              "      <td>1011.000000</td>\n",
              "      <td>15628241</td>\n",
              "    </tr>\n",
              "    <tr>\n",
              "      <th>2020-09-18</th>\n",
              "      <td>1011.000000</td>\n",
              "      <td>1018.799988</td>\n",
              "      <td>999.099976</td>\n",
              "      <td>1002.150024</td>\n",
              "      <td>1002.150024</td>\n",
              "      <td>12897633</td>\n",
              "    </tr>\n",
              "  </tbody>\n",
              "</table>\n",
              "<p>422 rows × 6 columns</p>\n",
              "</div>"
            ],
            "text/plain": [
              "                   Open         High  ...    Adj Close    Volume\n",
              "Date                                  ...                       \n",
              "2019-01-01   660.950012   666.299988  ...   628.823120   2943390\n",
              "2019-01-02   666.000000   674.000000  ...   632.605225   7416655\n",
              "2019-01-03   672.000000   677.000000  ...   632.699768   6827249\n",
              "2019-01-04   671.750000   673.900024  ...   625.040955   7889310\n",
              "2019-01-07   665.000000   673.599976  ...   635.110840   8046340\n",
              "...                 ...          ...  ...          ...       ...\n",
              "2020-09-14   957.000000   991.049988  ...   978.400024  21871587\n",
              "2020-09-15   979.500000   994.000000  ...   982.450012  11608203\n",
              "2020-09-16   986.000000  1005.650024  ...  1001.750000  10059251\n",
              "2020-09-17   995.000000  1021.000000  ...  1011.000000  15628241\n",
              "2020-09-18  1011.000000  1018.799988  ...  1002.150024  12897633\n",
              "\n",
              "[422 rows x 6 columns]"
            ]
          },
          "metadata": {
            "tags": []
          },
          "execution_count": 37
        }
      ]
    },
    {
      "cell_type": "code",
      "metadata": {
        "id": "H5IdLySiM89c",
        "colab_type": "code",
        "colab": {
          "base_uri": "https://localhost:8080/",
          "height": 238
        },
        "outputId": "4ae27586-8ccf-4c69-8a10-5a29b9684cf2"
      },
      "source": [
        "data_test.info()"
      ],
      "execution_count": 38,
      "outputs": [
        {
          "output_type": "stream",
          "text": [
            "<class 'pandas.core.frame.DataFrame'>\n",
            "DatetimeIndex: 422 entries, 2019-01-01 to 2020-09-18\n",
            "Data columns (total 6 columns):\n",
            " #   Column     Non-Null Count  Dtype  \n",
            "---  ------     --------------  -----  \n",
            " 0   Open       422 non-null    float64\n",
            " 1   High       422 non-null    float64\n",
            " 2   Low        422 non-null    float64\n",
            " 3   Close      422 non-null    float64\n",
            " 4   Adj Close  422 non-null    float64\n",
            " 5   Volume     422 non-null    int64  \n",
            "dtypes: float64(5), int64(1)\n",
            "memory usage: 23.1 KB\n"
          ],
          "name": "stdout"
        }
      ]
    },
    {
      "cell_type": "code",
      "metadata": {
        "id": "bosPGaoMMDvN",
        "colab_type": "code",
        "colab": {}
      },
      "source": [
        "real_stock_price = data_test.iloc[:, 3:4].values"
      ],
      "execution_count": 39,
      "outputs": []
    },
    {
      "cell_type": "code",
      "metadata": {
        "id": "5q8tL8PCM2Ed",
        "colab_type": "code",
        "colab": {
          "base_uri": "https://localhost:8080/",
          "height": 450
        },
        "outputId": "44e2c714-0993-4563-fdb4-e136fe65c571"
      },
      "source": [
        "test_set=data_test['Close']\n",
        "test_set=pd.DataFrame(test_set)\n",
        "test_set"
      ],
      "execution_count": 40,
      "outputs": [
        {
          "output_type": "execute_result",
          "data": {
            "text/html": [
              "<div>\n",
              "<style scoped>\n",
              "    .dataframe tbody tr th:only-of-type {\n",
              "        vertical-align: middle;\n",
              "    }\n",
              "\n",
              "    .dataframe tbody tr th {\n",
              "        vertical-align: top;\n",
              "    }\n",
              "\n",
              "    .dataframe thead th {\n",
              "        text-align: right;\n",
              "    }\n",
              "</style>\n",
              "<table border=\"1\" class=\"dataframe\">\n",
              "  <thead>\n",
              "    <tr style=\"text-align: right;\">\n",
              "      <th></th>\n",
              "      <th>Close</th>\n",
              "    </tr>\n",
              "    <tr>\n",
              "      <th>Date</th>\n",
              "      <th></th>\n",
              "    </tr>\n",
              "  </thead>\n",
              "  <tbody>\n",
              "    <tr>\n",
              "      <th>2019-01-01</th>\n",
              "      <td>665.049988</td>\n",
              "    </tr>\n",
              "    <tr>\n",
              "      <th>2019-01-02</th>\n",
              "      <td>669.049988</td>\n",
              "    </tr>\n",
              "    <tr>\n",
              "      <th>2019-01-03</th>\n",
              "      <td>669.150024</td>\n",
              "    </tr>\n",
              "    <tr>\n",
              "      <th>2019-01-04</th>\n",
              "      <td>661.049988</td>\n",
              "    </tr>\n",
              "    <tr>\n",
              "      <th>2019-01-07</th>\n",
              "      <td>671.700012</td>\n",
              "    </tr>\n",
              "    <tr>\n",
              "      <th>...</th>\n",
              "      <td>...</td>\n",
              "    </tr>\n",
              "    <tr>\n",
              "      <th>2020-09-14</th>\n",
              "      <td>978.400024</td>\n",
              "    </tr>\n",
              "    <tr>\n",
              "      <th>2020-09-15</th>\n",
              "      <td>982.450012</td>\n",
              "    </tr>\n",
              "    <tr>\n",
              "      <th>2020-09-16</th>\n",
              "      <td>1001.750000</td>\n",
              "    </tr>\n",
              "    <tr>\n",
              "      <th>2020-09-17</th>\n",
              "      <td>1011.000000</td>\n",
              "    </tr>\n",
              "    <tr>\n",
              "      <th>2020-09-18</th>\n",
              "      <td>1002.150024</td>\n",
              "    </tr>\n",
              "  </tbody>\n",
              "</table>\n",
              "<p>422 rows × 1 columns</p>\n",
              "</div>"
            ],
            "text/plain": [
              "                  Close\n",
              "Date                   \n",
              "2019-01-01   665.049988\n",
              "2019-01-02   669.049988\n",
              "2019-01-03   669.150024\n",
              "2019-01-04   661.049988\n",
              "2019-01-07   671.700012\n",
              "...                 ...\n",
              "2020-09-14   978.400024\n",
              "2020-09-15   982.450012\n",
              "2020-09-16  1001.750000\n",
              "2020-09-17  1011.000000\n",
              "2020-09-18  1002.150024\n",
              "\n",
              "[422 rows x 1 columns]"
            ]
          },
          "metadata": {
            "tags": []
          },
          "execution_count": 40
        }
      ]
    },
    {
      "cell_type": "code",
      "metadata": {
        "id": "9LKwqsTvNMTt",
        "colab_type": "code",
        "colab": {
          "base_uri": "https://localhost:8080/",
          "height": 153
        },
        "outputId": "cb9355cd-a759-44d7-db9b-0a6dc7e1a8f2"
      },
      "source": [
        "test_set.info()"
      ],
      "execution_count": 41,
      "outputs": [
        {
          "output_type": "stream",
          "text": [
            "<class 'pandas.core.frame.DataFrame'>\n",
            "DatetimeIndex: 422 entries, 2019-01-01 to 2020-09-18\n",
            "Data columns (total 1 columns):\n",
            " #   Column  Non-Null Count  Dtype  \n",
            "---  ------  --------------  -----  \n",
            " 0   Close   422 non-null    float64\n",
            "dtypes: float64(1)\n",
            "memory usage: 6.6 KB\n"
          ],
          "name": "stdout"
        }
      ]
    },
    {
      "cell_type": "code",
      "metadata": {
        "id": "OO-1t7dXNTha",
        "colab_type": "code",
        "colab": {}
      },
      "source": [
        "# Getting the predicted stock price of 2017\n",
        "dataset_total = pd.concat((data['Close'], data_test['Close']), axis = 0)\n",
        "inputs = dataset_total[len(dataset_total) - len(data_test) - 60:].values"
      ],
      "execution_count": 42,
      "outputs": []
    },
    {
      "cell_type": "code",
      "metadata": {
        "id": "cXOVdpIsWE2X",
        "colab_type": "code",
        "colab": {
          "base_uri": "https://localhost:8080/",
          "height": 34
        },
        "outputId": "25eeb877-2ede-442e-d25b-fee3a43da75f"
      },
      "source": [
        "len(dataset_total)"
      ],
      "execution_count": 43,
      "outputs": [
        {
          "output_type": "execute_result",
          "data": {
            "text/plain": [
              "6103"
            ]
          },
          "metadata": {
            "tags": []
          },
          "execution_count": 43
        }
      ]
    },
    {
      "cell_type": "code",
      "metadata": {
        "id": "-Geh34T4WPCE",
        "colab_type": "code",
        "colab": {
          "base_uri": "https://localhost:8080/",
          "height": 34
        },
        "outputId": "19de40f3-cf8c-4a4e-8266-dbd5c1a2cd61"
      },
      "source": [
        "len(data)"
      ],
      "execution_count": 44,
      "outputs": [
        {
          "output_type": "execute_result",
          "data": {
            "text/plain": [
              "5681"
            ]
          },
          "metadata": {
            "tags": []
          },
          "execution_count": 44
        }
      ]
    },
    {
      "cell_type": "code",
      "metadata": {
        "id": "USUnujHxVzM4",
        "colab_type": "code",
        "colab": {
          "base_uri": "https://localhost:8080/",
          "height": 238
        },
        "outputId": "061a81ce-ee04-4e7a-e8a9-1bd30e043125"
      },
      "source": [
        "dataset_total"
      ],
      "execution_count": 45,
      "outputs": [
        {
          "output_type": "execute_result",
          "data": {
            "text/plain": [
              "Date\n",
              "1996-01-01       0.796680\n",
              "1996-01-02       0.793460\n",
              "1996-01-03       0.798830\n",
              "1996-01-04       0.793550\n",
              "1996-01-05       0.784180\n",
              "                 ...     \n",
              "2020-09-14     978.400024\n",
              "2020-09-15     982.450012\n",
              "2020-09-16    1001.750000\n",
              "2020-09-17    1011.000000\n",
              "2020-09-18    1002.150024\n",
              "Name: Close, Length: 6103, dtype: float64"
            ]
          },
          "metadata": {
            "tags": []
          },
          "execution_count": 45
        }
      ]
    },
    {
      "cell_type": "code",
      "metadata": {
        "id": "INkiejQoVi7o",
        "colab_type": "code",
        "colab": {
          "base_uri": "https://localhost:8080/",
          "height": 34
        },
        "outputId": "abb8914c-1070-440f-8372-315f37c2d6fc"
      },
      "source": [
        "len(inputs)"
      ],
      "execution_count": 46,
      "outputs": [
        {
          "output_type": "execute_result",
          "data": {
            "text/plain": [
              "482"
            ]
          },
          "metadata": {
            "tags": []
          },
          "execution_count": 46
        }
      ]
    },
    {
      "cell_type": "code",
      "metadata": {
        "id": "qOVdHBfIVern",
        "colab_type": "code",
        "colab": {}
      },
      "source": [
        "inputs = inputs.reshape(-1,1)\n",
        "inputs = sc.transform(inputs)\n",
        "X_test = []\n",
        "for i in range(60, 482):\n",
        "    X_test.append(inputs[i-60:i, 0])\n",
        "X_test = np.array(X_test)\n",
        "X_test = np.reshape(X_test, (X_test.shape[0], X_test.shape[1], 1))\n",
        "predicted_stock_price = regressor.predict(X_test)\n",
        "predicted_stock_price = sc.inverse_transform(predicted_stock_price)"
      ],
      "execution_count": 47,
      "outputs": []
    },
    {
      "cell_type": "code",
      "metadata": {
        "id": "RZYZm_lbN3ac",
        "colab_type": "code",
        "colab": {
          "base_uri": "https://localhost:8080/",
          "height": 153
        },
        "outputId": "3b71f092-8a5b-450f-bd6c-c2fd77361801"
      },
      "source": [
        "predicted_stock_price=pd.DataFrame(predicted_stock_price)\n",
        "predicted_stock_price.info()"
      ],
      "execution_count": 48,
      "outputs": [
        {
          "output_type": "stream",
          "text": [
            "<class 'pandas.core.frame.DataFrame'>\n",
            "RangeIndex: 422 entries, 0 to 421\n",
            "Data columns (total 1 columns):\n",
            " #   Column  Non-Null Count  Dtype  \n",
            "---  ------  --------------  -----  \n",
            " 0   0       422 non-null    float32\n",
            "dtypes: float32(1)\n",
            "memory usage: 1.8 KB\n"
          ],
          "name": "stdout"
        }
      ]
    },
    {
      "cell_type": "code",
      "metadata": {
        "id": "Cl6lwYqLN4_1",
        "colab_type": "code",
        "colab": {
          "base_uri": "https://localhost:8080/",
          "height": 295
        },
        "outputId": "2c9e2929-00f7-4b2a-a10d-c8121eddf870"
      },
      "source": [
        "# Visualising the results\n",
        "plt.plot(real_stock_price, color = 'red', label = 'Real Stock Price')\n",
        "plt.plot(predicted_stock_price, color = 'blue', label = 'Predicted Stock Price')\n",
        "plt.title('Stock Price Prediction')\n",
        "plt.xlabel('Time')\n",
        "plt.ylabel('Stock Price')\n",
        "plt.legend()\n",
        "plt.show()"
      ],
      "execution_count": 49,
      "outputs": [
        {
          "output_type": "display_data",
          "data": {
            "image/png": "[encoded data removed]",
            "text/plain": [
              "<Figure size 432x288 with 1 Axes>"
            ]
          },
          "metadata": {
            "tags": [],
            "needs_background": "light"
          }
        }
      ]
    },
    {
      "cell_type": "code",
      "metadata": {
        "id": "RM5SPdL3YoOE",
        "colab_type": "code",
        "colab": {
          "base_uri": "https://localhost:8080/",
          "height": 419
        },
        "outputId": "747ef622-26a6-48e4-a6eb-04fb7811613e"
      },
      "source": [
        "predicted_stock_price.columns=['predicted']\n",
        "predicted_stock_price"
      ],
      "execution_count": 50,
      "outputs": [
        {
          "output_type": "execute_result",
          "data": {
            "text/html": [
              "<div>\n",
              "<style scoped>\n",
              "    .dataframe tbody tr th:only-of-type {\n",
              "        vertical-align: middle;\n",
              "    }\n",
              "\n",
              "    .dataframe tbody tr th {\n",
              "        vertical-align: top;\n",
              "    }\n",
              "\n",
              "    .dataframe thead th {\n",
              "        text-align: right;\n",
              "    }\n",
              "</style>\n",
              "<table border=\"1\" class=\"dataframe\">\n",
              "  <thead>\n",
              "    <tr style=\"text-align: right;\">\n",
              "      <th></th>\n",
              "      <th>predicted</th>\n",
              "    </tr>\n",
              "  </thead>\n",
              "  <tbody>\n",
              "    <tr>\n",
              "      <th>0</th>\n",
              "      <td>672.447754</td>\n",
              "    </tr>\n",
              "    <tr>\n",
              "      <th>1</th>\n",
              "      <td>673.177307</td>\n",
              "    </tr>\n",
              "    <tr>\n",
              "      <th>2</th>\n",
              "      <td>674.968567</td>\n",
              "    </tr>\n",
              "    <tr>\n",
              "      <th>3</th>\n",
              "      <td>676.139526</td>\n",
              "    </tr>\n",
              "    <tr>\n",
              "      <th>4</th>\n",
              "      <td>675.095398</td>\n",
              "    </tr>\n",
              "    <tr>\n",
              "      <th>...</th>\n",
              "      <td>...</td>\n",
              "    </tr>\n",
              "    <tr>\n",
              "      <th>417</th>\n",
              "      <td>791.717346</td>\n",
              "    </tr>\n",
              "    <tr>\n",
              "      <th>418</th>\n",
              "      <td>782.787964</td>\n",
              "    </tr>\n",
              "    <tr>\n",
              "      <th>419</th>\n",
              "      <td>790.879883</td>\n",
              "    </tr>\n",
              "    <tr>\n",
              "      <th>420</th>\n",
              "      <td>780.685913</td>\n",
              "    </tr>\n",
              "    <tr>\n",
              "      <th>421</th>\n",
              "      <td>782.372620</td>\n",
              "    </tr>\n",
              "  </tbody>\n",
              "</table>\n",
              "<p>422 rows × 1 columns</p>\n",
              "</div>"
            ],
            "text/plain": [
              "      predicted\n",
              "0    672.447754\n",
              "1    673.177307\n",
              "2    674.968567\n",
              "3    676.139526\n",
              "4    675.095398\n",
              "..          ...\n",
              "417  791.717346\n",
              "418  782.787964\n",
              "419  790.879883\n",
              "420  780.685913\n",
              "421  782.372620\n",
              "\n",
              "[422 rows x 1 columns]"
            ]
          },
          "metadata": {
            "tags": []
          },
          "execution_count": 50
        }
      ]
    },
    {
      "cell_type": "code",
      "metadata": {
        "id": "QSon1j43Y0fN",
        "colab_type": "code",
        "colab": {
          "base_uri": "https://localhost:8080/",
          "height": 419
        },
        "outputId": "0d00303a-b31a-4d0b-f585-0a098e587a7a"
      },
      "source": [
        "real_stock_price=pd.DataFrame(real_stock_price)\n",
        "real_stock_price.columns=['real']\n",
        "real_stock_price"
      ],
      "execution_count": 51,
      "outputs": [
        {
          "output_type": "execute_result",
          "data": {
            "text/html": [
              "<div>\n",
              "<style scoped>\n",
              "    .dataframe tbody tr th:only-of-type {\n",
              "        vertical-align: middle;\n",
              "    }\n",
              "\n",
              "    .dataframe tbody tr th {\n",
              "        vertical-align: top;\n",
              "    }\n",
              "\n",
              "    .dataframe thead th {\n",
              "        text-align: right;\n",
              "    }\n",
              "</style>\n",
              "<table border=\"1\" class=\"dataframe\">\n",
              "  <thead>\n",
              "    <tr style=\"text-align: right;\">\n",
              "      <th></th>\n",
              "      <th>real</th>\n",
              "    </tr>\n",
              "  </thead>\n",
              "  <tbody>\n",
              "    <tr>\n",
              "      <th>0</th>\n",
              "      <td>665.049988</td>\n",
              "    </tr>\n",
              "    <tr>\n",
              "      <th>1</th>\n",
              "      <td>669.049988</td>\n",
              "    </tr>\n",
              "    <tr>\n",
              "      <th>2</th>\n",
              "      <td>669.150024</td>\n",
              "    </tr>\n",
              "    <tr>\n",
              "      <th>3</th>\n",
              "      <td>661.049988</td>\n",
              "    </tr>\n",
              "    <tr>\n",
              "      <th>4</th>\n",
              "      <td>671.700012</td>\n",
              "    </tr>\n",
              "    <tr>\n",
              "      <th>...</th>\n",
              "      <td>...</td>\n",
              "    </tr>\n",
              "    <tr>\n",
              "      <th>417</th>\n",
              "      <td>978.400024</td>\n",
              "    </tr>\n",
              "    <tr>\n",
              "      <th>418</th>\n",
              "      <td>982.450012</td>\n",
              "    </tr>\n",
              "    <tr>\n",
              "      <th>419</th>\n",
              "      <td>1001.750000</td>\n",
              "    </tr>\n",
              "    <tr>\n",
              "      <th>420</th>\n",
              "      <td>1011.000000</td>\n",
              "    </tr>\n",
              "    <tr>\n",
              "      <th>421</th>\n",
              "      <td>1002.150024</td>\n",
              "    </tr>\n",
              "  </tbody>\n",
              "</table>\n",
              "<p>422 rows × 1 columns</p>\n",
              "</div>"
            ],
            "text/plain": [
              "            real\n",
              "0     665.049988\n",
              "1     669.049988\n",
              "2     669.150024\n",
              "3     661.049988\n",
              "4     671.700012\n",
              "..           ...\n",
              "417   978.400024\n",
              "418   982.450012\n",
              "419  1001.750000\n",
              "420  1011.000000\n",
              "421  1002.150024\n",
              "\n",
              "[422 rows x 1 columns]"
            ]
          },
          "metadata": {
            "tags": []
          },
          "execution_count": 51
        }
      ]
    },
    {
      "cell_type": "code",
      "metadata": {
        "id": "87CgHakXZxCc",
        "colab_type": "code",
        "colab": {
          "base_uri": "https://localhost:8080/",
          "height": 419
        },
        "outputId": "f63e10d8-aafa-45c6-b7af-f7e4824833ac"
      },
      "source": [
        "stock_prediction = pd.concat([real_stock_price, predicted_stock_price], axis=1)\n",
        "stock_prediction"
      ],
      "execution_count": 52,
      "outputs": [
        {
          "output_type": "execute_result",
          "data": {
            "text/html": [
              "<div>\n",
              "<style scoped>\n",
              "    .dataframe tbody tr th:only-of-type {\n",
              "        vertical-align: middle;\n",
              "    }\n",
              "\n",
              "    .dataframe tbody tr th {\n",
              "        vertical-align: top;\n",
              "    }\n",
              "\n",
              "    .dataframe thead th {\n",
              "        text-align: right;\n",
              "    }\n",
              "</style>\n",
              "<table border=\"1\" class=\"dataframe\">\n",
              "  <thead>\n",
              "    <tr style=\"text-align: right;\">\n",
              "      <th></th>\n",
              "      <th>real</th>\n",
              "      <th>predicted</th>\n",
              "    </tr>\n",
              "  </thead>\n",
              "  <tbody>\n",
              "    <tr>\n",
              "      <th>0</th>\n",
              "      <td>665.049988</td>\n",
              "      <td>672.447754</td>\n",
              "    </tr>\n",
              "    <tr>\n",
              "      <th>1</th>\n",
              "      <td>669.049988</td>\n",
              "      <td>673.177307</td>\n",
              "    </tr>\n",
              "    <tr>\n",
              "      <th>2</th>\n",
              "      <td>669.150024</td>\n",
              "      <td>674.968567</td>\n",
              "    </tr>\n",
              "    <tr>\n",
              "      <th>3</th>\n",
              "      <td>661.049988</td>\n",
              "      <td>676.139526</td>\n",
              "    </tr>\n",
              "    <tr>\n",
              "      <th>4</th>\n",
              "      <td>671.700012</td>\n",
              "      <td>675.095398</td>\n",
              "    </tr>\n",
              "    <tr>\n",
              "      <th>...</th>\n",
              "      <td>...</td>\n",
              "      <td>...</td>\n",
              "    </tr>\n",
              "    <tr>\n",
              "      <th>417</th>\n",
              "      <td>978.400024</td>\n",
              "      <td>791.717346</td>\n",
              "    </tr>\n",
              "    <tr>\n",
              "      <th>418</th>\n",
              "      <td>982.450012</td>\n",
              "      <td>782.787964</td>\n",
              "    </tr>\n",
              "    <tr>\n",
              "      <th>419</th>\n",
              "      <td>1001.750000</td>\n",
              "      <td>790.879883</td>\n",
              "    </tr>\n",
              "    <tr>\n",
              "      <th>420</th>\n",
              "      <td>1011.000000</td>\n",
              "      <td>780.685913</td>\n",
              "    </tr>\n",
              "    <tr>\n",
              "      <th>421</th>\n",
              "      <td>1002.150024</td>\n",
              "      <td>782.372620</td>\n",
              "    </tr>\n",
              "  </tbody>\n",
              "</table>\n",
              "<p>422 rows × 2 columns</p>\n",
              "</div>"
            ],
            "text/plain": [
              "            real   predicted\n",
              "0     665.049988  672.447754\n",
              "1     669.049988  673.177307\n",
              "2     669.150024  674.968567\n",
              "3     661.049988  676.139526\n",
              "4     671.700012  675.095398\n",
              "..           ...         ...\n",
              "417   978.400024  791.717346\n",
              "418   982.450012  782.787964\n",
              "419  1001.750000  790.879883\n",
              "420  1011.000000  780.685913\n",
              "421  1002.150024  782.372620\n",
              "\n",
              "[422 rows x 2 columns]"
            ]
          },
          "metadata": {
            "tags": []
          },
          "execution_count": 52
        }
      ]
    },
    {
      "cell_type": "code",
      "metadata": {
        "id": "1lqnWfO1bc5s",
        "colab_type": "code",
        "colab": {}
      },
      "source": [
        "stock_prediction.to_csv('/content/drive/My Drive/StockPrice_project/infosys_stock_prediction.csv')"
      ],
      "execution_count": 53,
      "outputs": []
    }
  ]
}